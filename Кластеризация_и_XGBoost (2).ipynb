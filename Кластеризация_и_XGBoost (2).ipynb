{
  "nbformat": 4,
  "nbformat_minor": 0,
  "metadata": {
    "colab": {
      "name": "Кластеризация_и_XGBoost.ipynb",
      "provenance": []
    },
    "kernelspec": {
      "name": "python3",
      "display_name": "Python 3"
    }
  },
  "cells": [
    {
      "cell_type": "markdown",
      "metadata": {
        "id": "a45RQVTswoVP"
      },
      "source": [
        "# Описание\n",
        "Обучение xgboost XGBRegressor для предсказания суммы контрактов по датасету хакатона.\n",
        "Иерархическая кластеризация данных по нашему датасету"
      ]
    },
    {
      "cell_type": "markdown",
      "metadata": {
        "id": "pvTH-8QJlYpg"
      },
      "source": [
        "# XGBoost\n",
        "### Предсказание суммы контрактов"
      ]
    },
    {
      "cell_type": "markdown",
      "metadata": {
        "id": "qztzx1kwl6Xr"
      },
      "source": [
        "### Анализ данных"
      ]
    },
    {
      "cell_type": "code",
      "metadata": {
        "id": "yrXuABKmlZqp"
      },
      "source": [
        "# Импорт необходимых библиотек\n",
        "from sklearn.model_selection import train_test_split\n",
        "from sklearn.metrics import mean_squared_error\n",
        "from random import randint\n",
        "import matplotlib.pyplot as plt\n",
        "import pandas as pd\n",
        "import numpy as np\n",
        "import matplotlib\n",
        "import random\n",
        "import xgboost\n",
        "import random"
      ],
      "execution_count": null,
      "outputs": []
    },
    {
      "cell_type": "code",
      "metadata": {
        "id": "vHb9VoQullbv"
      },
      "source": [
        "# Чтение датасетов хакатона\n",
        "data_generations = pd.read_excel('Датасет (Департамент информационных технологий города Москвы).xlsx')\n",
        "data_products = pd.read_csv('Датасет (Продуктовая корзина).csv',sep=';')"
      ],
      "execution_count": null,
      "outputs": []
    },
    {
      "cell_type": "code",
      "metadata": {
        "id": "k9FpLiDklwg3",
        "colab": {
          "base_uri": "https://localhost:8080/"
        },
        "outputId": "095f75e3-e531-4da8-c915-fa45ed4449fe"
      },
      "source": [
        "# Размер датафрейма\n",
        "data_generations.shape"
      ],
      "execution_count": null,
      "outputs": [
        {
          "output_type": "execute_result",
          "data": {
            "text/plain": [
              "(13571, 5)"
            ]
          },
          "metadata": {
            "tags": []
          },
          "execution_count": 3
        }
      ]
    },
    {
      "cell_type": "code",
      "metadata": {
        "id": "9RmwI6f2l1fd",
        "colab": {
          "base_uri": "https://localhost:8080/",
          "height": 284
        },
        "outputId": "ba80e38f-9589-4709-af24-343eeea16cff"
      },
      "source": [
        "# Описание\n",
        "data_generations.describe()"
      ],
      "execution_count": null,
      "outputs": [
        {
          "output_type": "execute_result",
          "data": {
            "text/html": [
              "<div>\n",
              "<style scoped>\n",
              "    .dataframe tbody tr th:only-of-type {\n",
              "        vertical-align: middle;\n",
              "    }\n",
              "\n",
              "    .dataframe tbody tr th {\n",
              "        vertical-align: top;\n",
              "    }\n",
              "\n",
              "    .dataframe thead th {\n",
              "        text-align: right;\n",
              "    }\n",
              "</style>\n",
              "<table border=\"1\" class=\"dataframe\">\n",
              "  <thead>\n",
              "    <tr style=\"text-align: right;\">\n",
              "      <th></th>\n",
              "      <th>sum</th>\n",
              "    </tr>\n",
              "  </thead>\n",
              "  <tbody>\n",
              "    <tr>\n",
              "      <th>count</th>\n",
              "      <td>13571.000000</td>\n",
              "    </tr>\n",
              "    <tr>\n",
              "      <th>mean</th>\n",
              "      <td>860.180606</td>\n",
              "    </tr>\n",
              "    <tr>\n",
              "      <th>std</th>\n",
              "      <td>2365.055498</td>\n",
              "    </tr>\n",
              "    <tr>\n",
              "      <th>min</th>\n",
              "      <td>1.000000</td>\n",
              "    </tr>\n",
              "    <tr>\n",
              "      <th>25%</th>\n",
              "      <td>16.000000</td>\n",
              "    </tr>\n",
              "    <tr>\n",
              "      <th>50%</th>\n",
              "      <td>106.000000</td>\n",
              "    </tr>\n",
              "    <tr>\n",
              "      <th>75%</th>\n",
              "      <td>528.500000</td>\n",
              "    </tr>\n",
              "    <tr>\n",
              "      <th>max</th>\n",
              "      <td>41508.000000</td>\n",
              "    </tr>\n",
              "  </tbody>\n",
              "</table>\n",
              "</div>"
            ],
            "text/plain": [
              "                sum\n",
              "count  13571.000000\n",
              "mean     860.180606\n",
              "std     2365.055498\n",
              "min        1.000000\n",
              "25%       16.000000\n",
              "50%      106.000000\n",
              "75%      528.500000\n",
              "max    41508.000000"
            ]
          },
          "metadata": {
            "tags": []
          },
          "execution_count": 4
        }
      ]
    },
    {
      "cell_type": "code",
      "metadata": {
        "id": "HiHHKjCIl5i9",
        "colab": {
          "base_uri": "https://localhost:8080/",
          "height": 195
        },
        "outputId": "a11839af-f26a-4959-9b28-c733e51b0cd6"
      },
      "source": [
        "# Первые 5 записей\n",
        "data_generations.head()"
      ],
      "execution_count": null,
      "outputs": [
        {
          "output_type": "execute_result",
          "data": {
            "text/html": [
              "<div>\n",
              "<style scoped>\n",
              "    .dataframe tbody tr th:only-of-type {\n",
              "        vertical-align: middle;\n",
              "    }\n",
              "\n",
              "    .dataframe tbody tr th {\n",
              "        vertical-align: top;\n",
              "    }\n",
              "\n",
              "    .dataframe thead th {\n",
              "        text-align: right;\n",
              "    }\n",
              "</style>\n",
              "<table border=\"1\" class=\"dataframe\">\n",
              "  <thead>\n",
              "    <tr style=\"text-align: right;\">\n",
              "      <th></th>\n",
              "      <th>house_district</th>\n",
              "      <th>person_gender</th>\n",
              "      <th>Возрастной класс</th>\n",
              "      <th>person_exemption_group</th>\n",
              "      <th>sum</th>\n",
              "    </tr>\n",
              "  </thead>\n",
              "  <tbody>\n",
              "    <tr>\n",
              "      <th>0</th>\n",
              "      <td>Академический</td>\n",
              "      <td>f</td>\n",
              "      <td>18-25</td>\n",
              "      <td>Многодетные</td>\n",
              "      <td>100</td>\n",
              "    </tr>\n",
              "    <tr>\n",
              "      <th>1</th>\n",
              "      <td>Академический</td>\n",
              "      <td>f</td>\n",
              "      <td>18-25</td>\n",
              "      <td>NaN</td>\n",
              "      <td>3895</td>\n",
              "    </tr>\n",
              "    <tr>\n",
              "      <th>2</th>\n",
              "      <td>Академический</td>\n",
              "      <td>f</td>\n",
              "      <td>25-45</td>\n",
              "      <td>Беременность</td>\n",
              "      <td>318</td>\n",
              "    </tr>\n",
              "    <tr>\n",
              "      <th>3</th>\n",
              "      <td>Академический</td>\n",
              "      <td>f</td>\n",
              "      <td>25-45</td>\n",
              "      <td>Инвалид</td>\n",
              "      <td>159</td>\n",
              "    </tr>\n",
              "    <tr>\n",
              "      <th>4</th>\n",
              "      <td>Академический</td>\n",
              "      <td>f</td>\n",
              "      <td>25-45</td>\n",
              "      <td>Малоимущие</td>\n",
              "      <td>3</td>\n",
              "    </tr>\n",
              "  </tbody>\n",
              "</table>\n",
              "</div>"
            ],
            "text/plain": [
              "  house_district person_gender Возрастной класс person_exemption_group   sum\n",
              "0  Академический             f            18-25            Многодетные   100\n",
              "1  Академический             f            18-25                    NaN  3895\n",
              "2  Академический             f            25-45           Беременность   318\n",
              "3  Академический             f            25-45                Инвалид   159\n",
              "4  Академический             f            25-45             Малоимущие     3"
            ]
          },
          "metadata": {
            "tags": []
          },
          "execution_count": 5
        }
      ]
    },
    {
      "cell_type": "code",
      "metadata": {
        "id": "uJ1YN7ChmA9V",
        "colab": {
          "base_uri": "https://localhost:8080/"
        },
        "outputId": "581f7402-21ec-4614-cf0e-0cb9fd347de3"
      },
      "source": [
        "# Количесто пустых записей\n",
        "data_generations.isnull().sum()"
      ],
      "execution_count": null,
      "outputs": [
        {
          "output_type": "execute_result",
          "data": {
            "text/plain": [
              "house_district               0\n",
              "person_gender                0\n",
              "Возрастной класс             0\n",
              "person_exemption_group    2335\n",
              "sum                          0\n",
              "dtype: int64"
            ]
          },
          "metadata": {
            "tags": []
          },
          "execution_count": 6
        }
      ]
    },
    {
      "cell_type": "code",
      "metadata": {
        "id": "MvazIHgcmSql"
      },
      "source": [
        ""
      ],
      "execution_count": null,
      "outputs": []
    },
    {
      "cell_type": "code",
      "metadata": {
        "id": "AOy3q8WGoOO1",
        "colab": {
          "base_uri": "https://localhost:8080/"
        },
        "outputId": "a34f825f-11e0-42c7-b110-3b00a8e4ae27"
      },
      "source": [
        "# Размер датафрейма\n",
        "data_products.shape"
      ],
      "execution_count": null,
      "outputs": [
        {
          "output_type": "execute_result",
          "data": {
            "text/plain": [
              "(336497, 18)"
            ]
          },
          "metadata": {
            "tags": []
          },
          "execution_count": 11
        }
      ]
    },
    {
      "cell_type": "code",
      "metadata": {
        "id": "n9AoTeQioRH7",
        "colab": {
          "base_uri": "https://localhost:8080/",
          "height": 301
        },
        "outputId": "bb6f660d-c553-4232-9c1c-07f89a1e14a2"
      },
      "source": [
        "# Описание\n",
        "data_products.describe()"
      ],
      "execution_count": null,
      "outputs": [
        {
          "output_type": "execute_result",
          "data": {
            "text/html": [
              "<div>\n",
              "<style scoped>\n",
              "    .dataframe tbody tr th:only-of-type {\n",
              "        vertical-align: middle;\n",
              "    }\n",
              "\n",
              "    .dataframe tbody tr th {\n",
              "        vertical-align: top;\n",
              "    }\n",
              "\n",
              "    .dataframe thead th {\n",
              "        text-align: right;\n",
              "    }\n",
              "</style>\n",
              "<table border=\"1\" class=\"dataframe\">\n",
              "  <thead>\n",
              "    <tr style=\"text-align: right;\">\n",
              "      <th></th>\n",
              "      <th>Id</th>\n",
              "      <th>Количество действующих оферт</th>\n",
              "      <th>Количество контрактов</th>\n",
              "      <th>Сумма в составе контрактов</th>\n",
              "    </tr>\n",
              "  </thead>\n",
              "  <tbody>\n",
              "    <tr>\n",
              "      <th>count</th>\n",
              "      <td>3.364970e+05</td>\n",
              "      <td>336497.000000</td>\n",
              "      <td>336497.000000</td>\n",
              "      <td>8.765000e+04</td>\n",
              "    </tr>\n",
              "    <tr>\n",
              "      <th>mean</th>\n",
              "      <td>1.287212e+07</td>\n",
              "      <td>0.625634</td>\n",
              "      <td>0.584617</td>\n",
              "      <td>2.000752e+05</td>\n",
              "    </tr>\n",
              "    <tr>\n",
              "      <th>std</th>\n",
              "      <td>8.699350e+06</td>\n",
              "      <td>0.943035</td>\n",
              "      <td>3.711969</td>\n",
              "      <td>9.326859e+05</td>\n",
              "    </tr>\n",
              "    <tr>\n",
              "      <th>min</th>\n",
              "      <td>1.100321e+06</td>\n",
              "      <td>0.000000</td>\n",
              "      <td>0.000000</td>\n",
              "      <td>1.010000e+00</td>\n",
              "    </tr>\n",
              "    <tr>\n",
              "      <th>25%</th>\n",
              "      <td>1.250700e+06</td>\n",
              "      <td>0.000000</td>\n",
              "      <td>0.000000</td>\n",
              "      <td>6.093920e+03</td>\n",
              "    </tr>\n",
              "    <tr>\n",
              "      <th>50%</th>\n",
              "      <td>1.777919e+07</td>\n",
              "      <td>0.000000</td>\n",
              "      <td>0.000000</td>\n",
              "      <td>3.900000e+04</td>\n",
              "    </tr>\n",
              "    <tr>\n",
              "      <th>75%</th>\n",
              "      <td>1.991760e+07</td>\n",
              "      <td>1.000000</td>\n",
              "      <td>1.000000</td>\n",
              "      <td>1.804356e+05</td>\n",
              "    </tr>\n",
              "    <tr>\n",
              "      <th>max</th>\n",
              "      <td>2.190947e+07</td>\n",
              "      <td>79.000000</td>\n",
              "      <td>670.000000</td>\n",
              "      <td>8.932870e+07</td>\n",
              "    </tr>\n",
              "  </tbody>\n",
              "</table>\n",
              "</div>"
            ],
            "text/plain": [
              "                 Id  ...  Сумма в составе контрактов\n",
              "count  3.364970e+05  ...                8.765000e+04\n",
              "mean   1.287212e+07  ...                2.000752e+05\n",
              "std    8.699350e+06  ...                9.326859e+05\n",
              "min    1.100321e+06  ...                1.010000e+00\n",
              "25%    1.250700e+06  ...                6.093920e+03\n",
              "50%    1.777919e+07  ...                3.900000e+04\n",
              "75%    1.991760e+07  ...                1.804356e+05\n",
              "max    2.190947e+07  ...                8.932870e+07\n",
              "\n",
              "[8 rows x 4 columns]"
            ]
          },
          "metadata": {
            "tags": []
          },
          "execution_count": 12
        }
      ]
    },
    {
      "cell_type": "code",
      "metadata": {
        "id": "TSfxUrGQoXRz",
        "colab": {
          "base_uri": "https://localhost:8080/",
          "height": 467
        },
        "outputId": "651bb6f3-fa6f-4c5a-e11e-0b86d30a5306"
      },
      "source": [
        "# Первые 5 записей\n",
        "data_products.head()"
      ],
      "execution_count": null,
      "outputs": [
        {
          "output_type": "execute_result",
          "data": {
            "text/html": [
              "<div>\n",
              "<style scoped>\n",
              "    .dataframe tbody tr th:only-of-type {\n",
              "        vertical-align: middle;\n",
              "    }\n",
              "\n",
              "    .dataframe tbody tr th {\n",
              "        vertical-align: top;\n",
              "    }\n",
              "\n",
              "    .dataframe thead th {\n",
              "        text-align: right;\n",
              "    }\n",
              "</style>\n",
              "<table border=\"1\" class=\"dataframe\">\n",
              "  <thead>\n",
              "    <tr style=\"text-align: right;\">\n",
              "      <th></th>\n",
              "      <th>Id</th>\n",
              "      <th>Наменование</th>\n",
              "      <th>Производитель</th>\n",
              "      <th>Вид продукции</th>\n",
              "      <th>Вид товаров</th>\n",
              "      <th>Количество действующих оферт</th>\n",
              "      <th>Количество контрактов</th>\n",
              "      <th>Сумма в составе контрактов</th>\n",
              "      <th>Страна происхождения</th>\n",
              "      <th>Длина</th>\n",
              "      <th>Ширина</th>\n",
              "      <th>Высота</th>\n",
              "      <th>Объем</th>\n",
              "      <th>Диаметр</th>\n",
              "      <th>Вес</th>\n",
              "      <th>Материал</th>\n",
              "      <th>Цвет</th>\n",
              "      <th>Гарантийный срок</th>\n",
              "    </tr>\n",
              "  </thead>\n",
              "  <tbody>\n",
              "    <tr>\n",
              "      <th>0</th>\n",
              "      <td>1164189</td>\n",
              "      <td>Endever SkyLine DP-40 настольная плита</td>\n",
              "      <td>Endever</td>\n",
              "      <td>Плиты</td>\n",
              "      <td>Варочная панель</td>\n",
              "      <td>0</td>\n",
              "      <td>0</td>\n",
              "      <td>NaN</td>\n",
              "      <td>NaN</td>\n",
              "      <td>NaN</td>\n",
              "      <td>NaN</td>\n",
              "      <td>NaN</td>\n",
              "      <td>NaN</td>\n",
              "      <td>NaN</td>\n",
              "      <td>2325 г</td>\n",
              "      <td>NaN</td>\n",
              "      <td>NaN</td>\n",
              "      <td>NaN</td>\n",
              "    </tr>\n",
              "    <tr>\n",
              "      <th>1</th>\n",
              "      <td>1164204</td>\n",
              "      <td>Endever IP-33 индукционная плита</td>\n",
              "      <td>Endever</td>\n",
              "      <td>Плиты</td>\n",
              "      <td>Варочная панель</td>\n",
              "      <td>0</td>\n",
              "      <td>0</td>\n",
              "      <td>NaN</td>\n",
              "      <td>NaN</td>\n",
              "      <td>NaN</td>\n",
              "      <td>NaN</td>\n",
              "      <td>NaN</td>\n",
              "      <td>NaN</td>\n",
              "      <td>NaN</td>\n",
              "      <td>2740 г</td>\n",
              "      <td>NaN</td>\n",
              "      <td>NaN</td>\n",
              "      <td>NaN</td>\n",
              "    </tr>\n",
              "    <tr>\n",
              "      <th>2</th>\n",
              "      <td>1164206</td>\n",
              "      <td>Energy EN-901, White настольная плита</td>\n",
              "      <td>Energy</td>\n",
              "      <td>Плиты</td>\n",
              "      <td>Варочная панель</td>\n",
              "      <td>0</td>\n",
              "      <td>0</td>\n",
              "      <td>NaN</td>\n",
              "      <td>NaN</td>\n",
              "      <td>NaN</td>\n",
              "      <td>NaN</td>\n",
              "      <td>NaN</td>\n",
              "      <td>NaN</td>\n",
              "      <td>NaN</td>\n",
              "      <td>1445 г</td>\n",
              "      <td>NaN</td>\n",
              "      <td>NaN</td>\n",
              "      <td>NaN</td>\n",
              "    </tr>\n",
              "    <tr>\n",
              "      <th>3</th>\n",
              "      <td>1164221</td>\n",
              "      <td>Endever Skyline IP-39 индукционная настольная ...</td>\n",
              "      <td>Endever</td>\n",
              "      <td>Плиты</td>\n",
              "      <td>Варочная панель</td>\n",
              "      <td>0</td>\n",
              "      <td>0</td>\n",
              "      <td>NaN</td>\n",
              "      <td>NaN</td>\n",
              "      <td>NaN</td>\n",
              "      <td>NaN</td>\n",
              "      <td>NaN</td>\n",
              "      <td>NaN</td>\n",
              "      <td>NaN</td>\n",
              "      <td>1490 г</td>\n",
              "      <td>NaN</td>\n",
              "      <td>NaN</td>\n",
              "      <td>NaN</td>\n",
              "    </tr>\n",
              "    <tr>\n",
              "      <th>4</th>\n",
              "      <td>1164223</td>\n",
              "      <td>Energy EN-901B электроплитка</td>\n",
              "      <td>Energy</td>\n",
              "      <td>Плиты</td>\n",
              "      <td>Варочная панель</td>\n",
              "      <td>0</td>\n",
              "      <td>0</td>\n",
              "      <td>NaN</td>\n",
              "      <td>NaN</td>\n",
              "      <td>NaN</td>\n",
              "      <td>NaN</td>\n",
              "      <td>NaN</td>\n",
              "      <td>NaN</td>\n",
              "      <td>NaN</td>\n",
              "      <td>1455 г</td>\n",
              "      <td>NaN</td>\n",
              "      <td>NaN</td>\n",
              "      <td>NaN</td>\n",
              "    </tr>\n",
              "  </tbody>\n",
              "</table>\n",
              "</div>"
            ],
            "text/plain": [
              "        Id  ... Гарантийный срок\n",
              "0  1164189  ...              NaN\n",
              "1  1164204  ...              NaN\n",
              "2  1164206  ...              NaN\n",
              "3  1164221  ...              NaN\n",
              "4  1164223  ...              NaN\n",
              "\n",
              "[5 rows x 18 columns]"
            ]
          },
          "metadata": {
            "tags": []
          },
          "execution_count": 13
        }
      ]
    },
    {
      "cell_type": "code",
      "metadata": {
        "id": "L9txzQqkocsD",
        "colab": {
          "base_uri": "https://localhost:8080/"
        },
        "outputId": "98de5515-1f30-4f08-e4d0-811ad5e3e578"
      },
      "source": [
        "# Количесто пустых записей\n",
        "data_products.isnull().sum()"
      ],
      "execution_count": null,
      "outputs": [
        {
          "output_type": "execute_result",
          "data": {
            "text/plain": [
              "Id                                   0\n",
              "Наменование                          0\n",
              "Производитель                    73601\n",
              "Вид продукции                        0\n",
              "Вид товаров                          0\n",
              "Количество действующих оферт         0\n",
              "Количество контрактов                0\n",
              "Сумма в составе контрактов      248847\n",
              "Страна происхождения            336489\n",
              "Длина                           304723\n",
              "Ширина                          300131\n",
              "Высота                          305404\n",
              "Объем                           323379\n",
              "Диаметр                         324164\n",
              "Вес                             257633\n",
              "Материал                        335950\n",
              "Цвет                            336423\n",
              "Гарантийный срок                324772\n",
              "dtype: int64"
            ]
          },
          "metadata": {
            "tags": []
          },
          "execution_count": 14
        }
      ]
    },
    {
      "cell_type": "code",
      "metadata": {
        "id": "iEdeeIMyoiqb"
      },
      "source": [
        "# Стандартное отклонение и среднее по колонке \"Сумма в составе контрактов\"\n",
        "std,mean = data_products['Сумма в составе контрактов'].dropna().std(),data_products['Сумма в составе контрактов'].dropna().mean()"
      ],
      "execution_count": null,
      "outputs": []
    },
    {
      "cell_type": "code",
      "metadata": {
        "id": "QeqcYxCrozy9"
      },
      "source": [
        "# Заполнение пустых значений\n",
        "x = np.random.normal(mean,std,336497)\n",
        "m = (data_products['Сумма в составе контрактов'].min() - min(x))\n",
        "x = [i+m for i in x]\n",
        "data_products['Сумма в составе контрактов'] = list(map(int,x))"
      ],
      "execution_count": null,
      "outputs": []
    },
    {
      "cell_type": "code",
      "metadata": {
        "id": "1Vx4CbKFo16e"
      },
      "source": [
        "# Заполнение пустых значений\n",
        "data_products['Количество действующих оферт'] = random.sample(list(data_products['Количество действующих оферт']),336497)"
      ],
      "execution_count": null,
      "outputs": []
    },
    {
      "cell_type": "code",
      "metadata": {
        "id": "z-uSkk6UpMzy"
      },
      "source": [
        "# Заполнение пустых значений\n",
        "x = [randint(1,10) for i in range(data_products.shape[0])]\n",
        "data_products['Страна происхождения'] = x"
      ],
      "execution_count": null,
      "outputs": []
    },
    {
      "cell_type": "markdown",
      "metadata": {
        "id": "ZN3LnXkipWtW"
      },
      "source": [
        "Пусть              \n",
        "1 - Китай,\n",
        "2 - Россия, \n",
        "3 - СНГ,\n",
        "4 - США, \n",
        "5 - Япония, \n",
        "6 - Корея,\n",
        "7 - Вьетнам, \n",
        "8 - Германия, \n",
        "9 - Швеция, \n",
        "10 - Франция \n"
      ]
    },
    {
      "cell_type": "code",
      "metadata": {
        "id": "sJTdP6d5puqG"
      },
      "source": [
        "# Вес товаров, заполнение средним значением по весу пустые значения\n",
        "data_products['Вес'] = data_products['Вес'].apply(lambda x: (str(x).split()[0].replace('от','')) if (str(x).split()[0]!='nan' and str(x).split()[0].isnumeric()) else None)\n",
        "data_products['Вес'] = data_products['Вес'].fillna(808.4).astype(int)"
      ],
      "execution_count": null,
      "outputs": []
    },
    {
      "cell_type": "code",
      "metadata": {
        "id": "0b75EBY8p7mu"
      },
      "source": [
        "# Т.к. все значения в колонках ниже пустые - заполняем их\n",
        "\n",
        "l = []\n",
        "for j in range(336497+1000//240):\n",
        "  for i in range(240):\n",
        "    l.append(i)\n",
        "data_products['Длина'] = random.sample(l,336497)\n",
        "l = []\n",
        "for j in range(336497+1000//240):\n",
        "  for i in range(120):\n",
        "    l.append(i)\n",
        "data_products['Ширина'] = random.sample(l,336497)\n",
        "l = []\n",
        "for j in range(336497+1000//240):\n",
        "  for i in range(360):\n",
        "    l.append(i)\n",
        "data_products['Высота'] = random.sample(l,336497)\n",
        "l = []\n",
        "for j in range(336497+1000//240):\n",
        "  for i in range(120):\n",
        "    l.append(i)\n",
        "data_products['Объем'] = random.sample(l,336497)\n",
        "l = []\n",
        "for j in range(336497+1000//240):\n",
        "  for i in range(90):\n",
        "    l.append(i)\n",
        "data_products['Диаметр'] = random.sample(l,336497)\n",
        "l = []\n",
        "for j in range(336497+1000//240):\n",
        "  for i in range(50):\n",
        "    l.append(i)\n",
        "data_products['Материал'] = random.sample(l,336497)\n",
        "l = []\n",
        "for j in range(336497+1000//240):\n",
        "  for i in range(140):\n",
        "    l.append(i)\n",
        "data_products['Цвет'] = random.sample(l,336497)"
      ],
      "execution_count": null,
      "outputs": []
    },
    {
      "cell_type": "code",
      "metadata": {
        "id": "URSI1YK6qNNx"
      },
      "source": [
        "# Удаление колонк\n",
        "data_products = data_products.drop(['Id','Наменование','Производитель','Гарантийный срок'],axis=1)"
      ],
      "execution_count": null,
      "outputs": []
    },
    {
      "cell_type": "code",
      "metadata": {
        "id": "xKNuTTGuqWCt"
      },
      "source": [
        "# Факторизация категориальных признаков\n",
        "data_products['Вид продукции'] = pd.factorize(data_products['Вид продукции'])[0]\n",
        "data_products['Вид товаров'] = pd.factorize(data_products['Вид товаров'])[0]"
      ],
      "execution_count": null,
      "outputs": []
    },
    {
      "cell_type": "code",
      "metadata": {
        "id": "oEYMMoiPq1yb",
        "colab": {
          "base_uri": "https://localhost:8080/",
          "height": 249
        },
        "outputId": "99ce3569-95cc-430e-ab12-b7df17c5f7a5"
      },
      "source": [
        "# Готовый датафрейм\n",
        "data_products.head()"
      ],
      "execution_count": null,
      "outputs": [
        {
          "output_type": "execute_result",
          "data": {
            "text/html": [
              "<div>\n",
              "<style scoped>\n",
              "    .dataframe tbody tr th:only-of-type {\n",
              "        vertical-align: middle;\n",
              "    }\n",
              "\n",
              "    .dataframe tbody tr th {\n",
              "        vertical-align: top;\n",
              "    }\n",
              "\n",
              "    .dataframe thead th {\n",
              "        text-align: right;\n",
              "    }\n",
              "</style>\n",
              "<table border=\"1\" class=\"dataframe\">\n",
              "  <thead>\n",
              "    <tr style=\"text-align: right;\">\n",
              "      <th></th>\n",
              "      <th>Вид продукции</th>\n",
              "      <th>Вид товаров</th>\n",
              "      <th>Количество действующих оферт</th>\n",
              "      <th>Количество контрактов</th>\n",
              "      <th>Сумма в составе контрактов</th>\n",
              "      <th>Страна происхождения</th>\n",
              "      <th>Длина</th>\n",
              "      <th>Ширина</th>\n",
              "      <th>Высота</th>\n",
              "      <th>Объем</th>\n",
              "      <th>Диаметр</th>\n",
              "      <th>Вес</th>\n",
              "      <th>Материал</th>\n",
              "      <th>Цвет</th>\n",
              "    </tr>\n",
              "  </thead>\n",
              "  <tbody>\n",
              "    <tr>\n",
              "      <th>0</th>\n",
              "      <td>0</td>\n",
              "      <td>0</td>\n",
              "      <td>2</td>\n",
              "      <td>0</td>\n",
              "      <td>3185908</td>\n",
              "      <td>3</td>\n",
              "      <td>198</td>\n",
              "      <td>49</td>\n",
              "      <td>65</td>\n",
              "      <td>6</td>\n",
              "      <td>63</td>\n",
              "      <td>2325</td>\n",
              "      <td>38</td>\n",
              "      <td>51</td>\n",
              "    </tr>\n",
              "    <tr>\n",
              "      <th>1</th>\n",
              "      <td>0</td>\n",
              "      <td>0</td>\n",
              "      <td>0</td>\n",
              "      <td>0</td>\n",
              "      <td>3102378</td>\n",
              "      <td>7</td>\n",
              "      <td>128</td>\n",
              "      <td>58</td>\n",
              "      <td>235</td>\n",
              "      <td>73</td>\n",
              "      <td>9</td>\n",
              "      <td>2740</td>\n",
              "      <td>28</td>\n",
              "      <td>132</td>\n",
              "    </tr>\n",
              "    <tr>\n",
              "      <th>2</th>\n",
              "      <td>0</td>\n",
              "      <td>0</td>\n",
              "      <td>0</td>\n",
              "      <td>0</td>\n",
              "      <td>4867981</td>\n",
              "      <td>7</td>\n",
              "      <td>78</td>\n",
              "      <td>8</td>\n",
              "      <td>359</td>\n",
              "      <td>55</td>\n",
              "      <td>59</td>\n",
              "      <td>1445</td>\n",
              "      <td>34</td>\n",
              "      <td>33</td>\n",
              "    </tr>\n",
              "    <tr>\n",
              "      <th>3</th>\n",
              "      <td>0</td>\n",
              "      <td>0</td>\n",
              "      <td>1</td>\n",
              "      <td>0</td>\n",
              "      <td>3891447</td>\n",
              "      <td>8</td>\n",
              "      <td>10</td>\n",
              "      <td>94</td>\n",
              "      <td>95</td>\n",
              "      <td>20</td>\n",
              "      <td>62</td>\n",
              "      <td>1490</td>\n",
              "      <td>31</td>\n",
              "      <td>66</td>\n",
              "    </tr>\n",
              "    <tr>\n",
              "      <th>4</th>\n",
              "      <td>0</td>\n",
              "      <td>0</td>\n",
              "      <td>0</td>\n",
              "      <td>0</td>\n",
              "      <td>3742888</td>\n",
              "      <td>7</td>\n",
              "      <td>107</td>\n",
              "      <td>0</td>\n",
              "      <td>162</td>\n",
              "      <td>36</td>\n",
              "      <td>45</td>\n",
              "      <td>1455</td>\n",
              "      <td>27</td>\n",
              "      <td>31</td>\n",
              "    </tr>\n",
              "  </tbody>\n",
              "</table>\n",
              "</div>"
            ],
            "text/plain": [
              "   Вид продукции  Вид товаров  ...  Материал  Цвет\n",
              "0              0            0  ...        38    51\n",
              "1              0            0  ...        28   132\n",
              "2              0            0  ...        34    33\n",
              "3              0            0  ...        31    66\n",
              "4              0            0  ...        27    31\n",
              "\n",
              "[5 rows x 14 columns]"
            ]
          },
          "metadata": {
            "tags": []
          },
          "execution_count": 33
        }
      ]
    },
    {
      "cell_type": "code",
      "metadata": {
        "id": "URj7AvoOq80Y"
      },
      "source": [
        "# Инициализация модели\n",
        "model = xgboost.XGBRegressor(colsample_bytree=0.4,\n",
        "                 gamma=0,                 \n",
        "                 learning_rate=0.07,\n",
        "                 max_depth=3,\n",
        "                 min_child_weight=1.5,\n",
        "                 n_estimators=1,                                                                    \n",
        "                 reg_alpha=0.75,\n",
        "                 reg_lambda=0.45,\n",
        "                 subsample=0.6,\n",
        "                 seed=42)"
      ],
      "execution_count": null,
      "outputs": []
    },
    {
      "cell_type": "code",
      "metadata": {
        "id": "Jsd3FK5VrENw"
      },
      "source": [
        "# Разделение данных на обучающую и тест выборку\n",
        "X_train, X_test, y_train, y_test = train_test_split(data_products.drop('Сумма в составе контрактов',axis=1),data_products['Сумма в составе контрактов'],test_size=0.3)"
      ],
      "execution_count": null,
      "outputs": []
    },
    {
      "cell_type": "code",
      "metadata": {
        "id": "mBKX-hfMrPYY",
        "colab": {
          "base_uri": "https://localhost:8080/"
        },
        "outputId": "1ed2bba0-2638-479d-fc64-976f36aa9710"
      },
      "source": [
        "# Тренировка\n",
        "model.fit(X_train,y_train)"
      ],
      "execution_count": null,
      "outputs": [
        {
          "output_type": "stream",
          "text": [
            "[07:40:48] WARNING: /workspace/src/objective/regression_obj.cu:152: reg:linear is now deprecated in favor of reg:squarederror.\n"
          ],
          "name": "stdout"
        },
        {
          "output_type": "execute_result",
          "data": {
            "text/plain": [
              "XGBRegressor(base_score=0.5, booster='gbtree', colsample_bylevel=1,\n",
              "             colsample_bynode=1, colsample_bytree=0.4, gamma=0,\n",
              "             importance_type='gain', learning_rate=0.07, max_delta_step=0,\n",
              "             max_depth=3, min_child_weight=1.5, missing=None, n_estimators=1,\n",
              "             n_jobs=1, nthread=None, objective='reg:linear', random_state=0,\n",
              "             reg_alpha=0.75, reg_lambda=0.45, scale_pos_weight=1, seed=42,\n",
              "             silent=None, subsample=0.6, verbosity=1)"
            ]
          },
          "metadata": {
            "tags": []
          },
          "execution_count": 37
        }
      ]
    },
    {
      "cell_type": "code",
      "metadata": {
        "id": "XmNa-Jxlr7bm",
        "colab": {
          "base_uri": "https://localhost:8080/"
        },
        "outputId": "3c2aff81-663f-48ab-8061-1e7858a099d3"
      },
      "source": [
        "# Важные признаки\n",
        "model.feature_importances_"
      ],
      "execution_count": null,
      "outputs": [
        {
          "output_type": "execute_result",
          "data": {
            "text/plain": [
              "array([1., 0., 0., 0., 0., 0., 0., 0., 0., 0., 0., 0., 0.], dtype=float32)"
            ]
          },
          "metadata": {
            "tags": []
          },
          "execution_count": 38
        }
      ]
    },
    {
      "cell_type": "code",
      "metadata": {
        "id": "SxKF5fSnsHVt"
      },
      "source": [
        "# Среднеквадратичная ошибка\n",
        "mean_squared_error(y_test,model.predict(X_test))"
      ],
      "execution_count": null,
      "outputs": []
    },
    {
      "cell_type": "code",
      "metadata": {
        "id": "dZS2MLArsSvZ"
      },
      "source": [
        ""
      ],
      "execution_count": null,
      "outputs": []
    },
    {
      "cell_type": "code",
      "metadata": {
        "id": "LjQVVDC0sS6d"
      },
      "source": [
        ""
      ],
      "execution_count": null,
      "outputs": []
    },
    {
      "cell_type": "markdown",
      "metadata": {
        "id": "ObcSeurYsTB1"
      },
      "source": [
        "# Иерархическая кластеризация"
      ]
    },
    {
      "cell_type": "code",
      "metadata": {
        "id": "97V54z7dseMg"
      },
      "source": [
        "# Импорт необходимых библиотек\n",
        "from matplotlib.pyplot import figure\n",
        "from sklearn.cluster import AgglomerativeClustering\n",
        "import matplotlib.pyplot as plt\n",
        "import pandas as pd\n",
        "import numpy as np"
      ],
      "execution_count": null,
      "outputs": []
    },
    {
      "cell_type": "code",
      "metadata": {
        "id": "hli-EjPtsgkc"
      },
      "source": [
        "# Чтение нашего датасета\n",
        "data = pd.read_excel('data-28509-2020-07-15.xlsx')"
      ],
      "execution_count": null,
      "outputs": []
    },
    {
      "cell_type": "code",
      "metadata": {
        "id": "CnjXWuMSsogz",
        "colab": {
          "base_uri": "https://localhost:8080/",
          "height": 467
        },
        "outputId": "8f58a440-a573-4215-8942-b2d2511ae7b5"
      },
      "source": [
        "# Первые 5 записей\n",
        "data.head()"
      ],
      "execution_count": null,
      "outputs": [
        {
          "output_type": "execute_result",
          "data": {
            "text/html": [
              "<div>\n",
              "<style scoped>\n",
              "    .dataframe tbody tr th:only-of-type {\n",
              "        vertical-align: middle;\n",
              "    }\n",
              "\n",
              "    .dataframe tbody tr th {\n",
              "        vertical-align: top;\n",
              "    }\n",
              "\n",
              "    .dataframe thead th {\n",
              "        text-align: right;\n",
              "    }\n",
              "</style>\n",
              "<table border=\"1\" class=\"dataframe\">\n",
              "  <thead>\n",
              "    <tr style=\"text-align: right;\">\n",
              "      <th></th>\n",
              "      <th>global_id</th>\n",
              "      <th>ID</th>\n",
              "      <th>Name</th>\n",
              "      <th>IsNetObject</th>\n",
              "      <th>OperatingCompany</th>\n",
              "      <th>TypeService</th>\n",
              "      <th>TypeObject</th>\n",
              "      <th>AdmArea</th>\n",
              "      <th>District</th>\n",
              "      <th>Address</th>\n",
              "      <th>PublicPhone</th>\n",
              "      <th>WorkingHours</th>\n",
              "      <th>ClarificationOfWorkingHours</th>\n",
              "      <th>geoData</th>\n",
              "    </tr>\n",
              "  </thead>\n",
              "  <tbody>\n",
              "    <tr>\n",
              "      <th>0</th>\n",
              "      <td>637390942</td>\n",
              "      <td>69305</td>\n",
              "      <td>Одежда. Обувь. Промтовары</td>\n",
              "      <td>нет</td>\n",
              "      <td>NaN</td>\n",
              "      <td>реализация непродовольственных товаров</td>\n",
              "      <td>Магазин «Промтовары»</td>\n",
              "      <td>Северный административный округ</td>\n",
              "      <td>район Беговой</td>\n",
              "      <td>город Москва, Беговая аллея, дом 3А</td>\n",
              "      <td>(977) 757-40-37</td>\n",
              "      <td>День недели: понедельник\\nЧасы работы: 09:30-2...</td>\n",
              "      <td>NaN</td>\n",
              "      <td>{type=Point, coordinates=[37.564782, 55.783360...</td>\n",
              "    </tr>\n",
              "    <tr>\n",
              "      <th>1</th>\n",
              "      <td>637391109</td>\n",
              "      <td>69320</td>\n",
              "      <td>АЙКОВЕР</td>\n",
              "      <td>нет</td>\n",
              "      <td>NaN</td>\n",
              "      <td>реализация непродовольственных товаров</td>\n",
              "      <td>Магазин-салон</td>\n",
              "      <td>Центральный административный округ</td>\n",
              "      <td>Тверской район</td>\n",
              "      <td>город Москва, Новослободская улица, дом 50/1, ...</td>\n",
              "      <td>(499) 250-12-40</td>\n",
              "      <td>День недели: понедельник\\nЧасы работы: 10:00-2...</td>\n",
              "      <td>NaN</td>\n",
              "      <td>{type=Point, coordinates=[37.59484948239575, 5...</td>\n",
              "    </tr>\n",
              "    <tr>\n",
              "      <th>2</th>\n",
              "      <td>637391684</td>\n",
              "      <td>69340</td>\n",
              "      <td>Магазин «Радуга»</td>\n",
              "      <td>нет</td>\n",
              "      <td>NaN</td>\n",
              "      <td>реализация продовольственных товаров</td>\n",
              "      <td>Магазин «Продукты»</td>\n",
              "      <td>Юго-Восточный административный округ</td>\n",
              "      <td>район Марьино</td>\n",
              "      <td>город Москва, Марьинский бульвар, дом 4</td>\n",
              "      <td>(909) 977-22-02</td>\n",
              "      <td>День недели: понедельник\\nЧасы работы: 10:00-2...</td>\n",
              "      <td>NaN</td>\n",
              "      <td>{type=Point, coordinates=[37.749818553954185, ...</td>\n",
              "    </tr>\n",
              "    <tr>\n",
              "      <th>3</th>\n",
              "      <td>637391714</td>\n",
              "      <td>69342</td>\n",
              "      <td>Точка любви</td>\n",
              "      <td>да</td>\n",
              "      <td>Точка любви</td>\n",
              "      <td>реализация непродовольственных товаров</td>\n",
              "      <td>Прочие специализированные непродовольственные ...</td>\n",
              "      <td>Северный административный округ</td>\n",
              "      <td>район Беговой</td>\n",
              "      <td>город Москва, Ленинградский проспект, дом 12</td>\n",
              "      <td>(985) 780-51-78</td>\n",
              "      <td>День недели: понедельник\\nЧасы работы: 10:00-2...</td>\n",
              "      <td>NaN</td>\n",
              "      <td>{type=Point, coordinates=[37.578783498641165, ...</td>\n",
              "    </tr>\n",
              "    <tr>\n",
              "      <th>4</th>\n",
              "      <td>637391844</td>\n",
              "      <td>69347</td>\n",
              "      <td>ПРОДУКТЫ</td>\n",
              "      <td>нет</td>\n",
              "      <td>NaN</td>\n",
              "      <td>реализация продовольственных товаров</td>\n",
              "      <td>Магазин «Продукты»</td>\n",
              "      <td>Юго-Восточный административный округ</td>\n",
              "      <td>район Лефортово</td>\n",
              "      <td>город Москва, Волочаевская улица, дом 40Б</td>\n",
              "      <td>(495) 361-17-35</td>\n",
              "      <td>День недели: понедельник\\nЧасы работы: круглос...</td>\n",
              "      <td>NaN</td>\n",
              "      <td>{type=Point, coordinates=[37.67813953250334, 5...</td>\n",
              "    </tr>\n",
              "  </tbody>\n",
              "</table>\n",
              "</div>"
            ],
            "text/plain": [
              "   global_id  ...                                            geoData\n",
              "0  637390942  ...  {type=Point, coordinates=[37.564782, 55.783360...\n",
              "1  637391109  ...  {type=Point, coordinates=[37.59484948239575, 5...\n",
              "2  637391684  ...  {type=Point, coordinates=[37.749818553954185, ...\n",
              "3  637391714  ...  {type=Point, coordinates=[37.578783498641165, ...\n",
              "4  637391844  ...  {type=Point, coordinates=[37.67813953250334, 5...\n",
              "\n",
              "[5 rows x 14 columns]"
            ]
          },
          "metadata": {
            "tags": []
          },
          "execution_count": 43
        }
      ]
    },
    {
      "cell_type": "code",
      "metadata": {
        "id": "t6mD8RIWsrZf"
      },
      "source": [
        "# Удаление лишних колонок\n",
        "data = data.drop(['global_id','ID','OperatingCompany','WorkingHours','PublicPhone','ClarificationOfWorkingHours','Name','Address','District','AdmArea'],axis=1)"
      ],
      "execution_count": null,
      "outputs": []
    },
    {
      "cell_type": "code",
      "metadata": {
        "id": "MuVtCucGsvrT"
      },
      "source": [
        "# Преобразование категориальных признаков One-Hot Encoding\n",
        "data = pd.get_dummies(data,columns=['TypeService','IsNetObject','TypeObject'])"
      ],
      "execution_count": null,
      "outputs": []
    },
    {
      "cell_type": "code",
      "metadata": {
        "id": "DN_-mrSvtJPI",
        "colab": {
          "base_uri": "https://localhost:8080/",
          "height": 282
        },
        "outputId": "e73efd8f-19d1-4766-a516-b765a1c71e66"
      },
      "source": [
        "# Разделение geoData на X и Y\n",
        "r1 = []\n",
        "r2 = []\n",
        "for i in data.geoData:\n",
        "  x,y = eval(i.split('coordinates=')[1].replace('}',''))\n",
        "  r1.append(float(x))\n",
        "  r2.append(float(y))\n",
        "data['x'] = r1\n",
        "data['y'] = r2\n",
        "data = data.drop('geoData',axis=1)\n",
        "data.head()"
      ],
      "execution_count": null,
      "outputs": [
        {
          "output_type": "execute_result",
          "data": {
            "text/html": [
              "<div>\n",
              "<style scoped>\n",
              "    .dataframe tbody tr th:only-of-type {\n",
              "        vertical-align: middle;\n",
              "    }\n",
              "\n",
              "    .dataframe tbody tr th {\n",
              "        vertical-align: top;\n",
              "    }\n",
              "\n",
              "    .dataframe thead th {\n",
              "        text-align: right;\n",
              "    }\n",
              "</style>\n",
              "<table border=\"1\" class=\"dataframe\">\n",
              "  <thead>\n",
              "    <tr style=\"text-align: right;\">\n",
              "      <th></th>\n",
              "      <th>TypeService_реализация непродовольственных товаров</th>\n",
              "      <th>TypeService_реализация продовольственных товаров</th>\n",
              "      <th>IsNetObject_да</th>\n",
              "      <th>IsNetObject_нет</th>\n",
              "      <th>TypeObject_Автосалон</th>\n",
              "      <th>TypeObject_Аутлет-магазины</th>\n",
              "      <th>TypeObject_Военторг</th>\n",
              "      <th>TypeObject_Гастроном</th>\n",
              "      <th>TypeObject_Гипермаркет (непродовольственный)</th>\n",
              "      <th>TypeObject_Гипермаркет (продовольственный)</th>\n",
              "      <th>TypeObject_Каскет (бутик для среднего класса)</th>\n",
              "      <th>TypeObject_Комиссионный магазин</th>\n",
              "      <th>TypeObject_Магазин «Алкогольные напитки»</th>\n",
              "      <th>TypeObject_Магазин «Бутик»</th>\n",
              "      <th>TypeObject_Магазин «Дискаунтер»</th>\n",
              "      <th>TypeObject_Магазин «Дисконт»</th>\n",
              "      <th>TypeObject_Магазин «Зоотовары»</th>\n",
              "      <th>TypeObject_Магазин «Книги»</th>\n",
              "      <th>TypeObject_Магазин «Колбасы»</th>\n",
              "      <th>TypeObject_Магазин «Кэш энд Кэрри»</th>\n",
              "      <th>TypeObject_Магазин «Мебель»</th>\n",
              "      <th>TypeObject_Магазин «Минеральные воды»</th>\n",
              "      <th>TypeObject_Магазин «Мир садовода»</th>\n",
              "      <th>TypeObject_Магазин «Мясо»</th>\n",
              "      <th>TypeObject_Магазин «Обувь»</th>\n",
              "      <th>TypeObject_Магазин «Овощи-фрукты»</th>\n",
              "      <th>TypeObject_Магазин «Одежда»</th>\n",
              "      <th>TypeObject_Магазин «Охотник»</th>\n",
              "      <th>TypeObject_Магазин «Природа»</th>\n",
              "      <th>TypeObject_Магазин «Продукты»</th>\n",
              "      <th>TypeObject_Магазин «Промтовары»</th>\n",
              "      <th>TypeObject_Магазин «Рыба»</th>\n",
              "      <th>TypeObject_Магазин «Секонд Хенд»</th>\n",
              "      <th>TypeObject_Магазин «Семена»</th>\n",
              "      <th>TypeObject_Магазин «Спорт и туризм»</th>\n",
              "      <th>TypeObject_Магазин «Ткани»</th>\n",
              "      <th>TypeObject_Магазин «Хлеб»</th>\n",
              "      <th>TypeObject_Магазин «Хозяйственные товары»</th>\n",
              "      <th>TypeObject_Магазин «Цветы»</th>\n",
              "      <th>TypeObject_Магазин «Электротовары»</th>\n",
              "      <th>TypeObject_Магазин товаров повседневного спроса</th>\n",
              "      <th>TypeObject_Магазин-салон</th>\n",
              "      <th>TypeObject_Магазин-склад</th>\n",
              "      <th>TypeObject_Магазин-склад непродовольственный (опт)</th>\n",
              "      <th>TypeObject_Минимаркет</th>\n",
              "      <th>TypeObject_Прочие специализированные непродовольственные предприятия торговли</th>\n",
              "      <th>TypeObject_Прочие специализированные продовольственные предприятия торговли</th>\n",
              "      <th>TypeObject_С комбинированным ассортиментом</th>\n",
              "      <th>TypeObject_Со смешанным ассортиментом</th>\n",
              "      <th>TypeObject_Стоковый магазин (магазин «Сток»)</th>\n",
              "      <th>TypeObject_Супермаркет</th>\n",
              "      <th>TypeObject_Товары для будущих мам</th>\n",
              "      <th>TypeObject_Товары для детей</th>\n",
              "      <th>TypeObject_Товары для дома</th>\n",
              "      <th>TypeObject_Товары для женщин</th>\n",
              "      <th>TypeObject_Товары для молодежи</th>\n",
              "      <th>TypeObject_Товары для мужчин</th>\n",
              "      <th>TypeObject_Товары для новобрачных</th>\n",
              "      <th>TypeObject_Товары для полных</th>\n",
              "      <th>TypeObject_Торговые центры (аутлет-центр, молл, ритейл-парк)</th>\n",
              "      <th>TypeObject_Торговый Дом</th>\n",
              "      <th>TypeObject_Универмаг</th>\n",
              "      <th>TypeObject_Универмаг «Детский Мир»</th>\n",
              "      <th>TypeObject_Универсальный общетоварный непродовольственный склад</th>\n",
              "      <th>TypeObject_Универсальный общетоварный продовольственный склад</th>\n",
              "      <th>TypeObject_Универсам</th>\n",
              "      <th>TypeObject_Центр оптовой и мелкооптовой непродовольственной торговли</th>\n",
              "      <th>x</th>\n",
              "      <th>y</th>\n",
              "    </tr>\n",
              "  </thead>\n",
              "  <tbody>\n",
              "    <tr>\n",
              "      <th>0</th>\n",
              "      <td>1</td>\n",
              "      <td>0</td>\n",
              "      <td>0</td>\n",
              "      <td>1</td>\n",
              "      <td>0</td>\n",
              "      <td>0</td>\n",
              "      <td>0</td>\n",
              "      <td>0</td>\n",
              "      <td>0</td>\n",
              "      <td>0</td>\n",
              "      <td>0</td>\n",
              "      <td>0</td>\n",
              "      <td>0</td>\n",
              "      <td>0</td>\n",
              "      <td>0</td>\n",
              "      <td>0</td>\n",
              "      <td>0</td>\n",
              "      <td>0</td>\n",
              "      <td>0</td>\n",
              "      <td>0</td>\n",
              "      <td>0</td>\n",
              "      <td>0</td>\n",
              "      <td>0</td>\n",
              "      <td>0</td>\n",
              "      <td>0</td>\n",
              "      <td>0</td>\n",
              "      <td>0</td>\n",
              "      <td>0</td>\n",
              "      <td>0</td>\n",
              "      <td>0</td>\n",
              "      <td>1</td>\n",
              "      <td>0</td>\n",
              "      <td>0</td>\n",
              "      <td>0</td>\n",
              "      <td>0</td>\n",
              "      <td>0</td>\n",
              "      <td>0</td>\n",
              "      <td>0</td>\n",
              "      <td>0</td>\n",
              "      <td>0</td>\n",
              "      <td>0</td>\n",
              "      <td>0</td>\n",
              "      <td>0</td>\n",
              "      <td>0</td>\n",
              "      <td>0</td>\n",
              "      <td>0</td>\n",
              "      <td>0</td>\n",
              "      <td>0</td>\n",
              "      <td>0</td>\n",
              "      <td>0</td>\n",
              "      <td>0</td>\n",
              "      <td>0</td>\n",
              "      <td>0</td>\n",
              "      <td>0</td>\n",
              "      <td>0</td>\n",
              "      <td>0</td>\n",
              "      <td>0</td>\n",
              "      <td>0</td>\n",
              "      <td>0</td>\n",
              "      <td>0</td>\n",
              "      <td>0</td>\n",
              "      <td>0</td>\n",
              "      <td>0</td>\n",
              "      <td>0</td>\n",
              "      <td>0</td>\n",
              "      <td>0</td>\n",
              "      <td>0</td>\n",
              "      <td>37.564782</td>\n",
              "      <td>55.783361</td>\n",
              "    </tr>\n",
              "    <tr>\n",
              "      <th>1</th>\n",
              "      <td>1</td>\n",
              "      <td>0</td>\n",
              "      <td>0</td>\n",
              "      <td>1</td>\n",
              "      <td>0</td>\n",
              "      <td>0</td>\n",
              "      <td>0</td>\n",
              "      <td>0</td>\n",
              "      <td>0</td>\n",
              "      <td>0</td>\n",
              "      <td>0</td>\n",
              "      <td>0</td>\n",
              "      <td>0</td>\n",
              "      <td>0</td>\n",
              "      <td>0</td>\n",
              "      <td>0</td>\n",
              "      <td>0</td>\n",
              "      <td>0</td>\n",
              "      <td>0</td>\n",
              "      <td>0</td>\n",
              "      <td>0</td>\n",
              "      <td>0</td>\n",
              "      <td>0</td>\n",
              "      <td>0</td>\n",
              "      <td>0</td>\n",
              "      <td>0</td>\n",
              "      <td>0</td>\n",
              "      <td>0</td>\n",
              "      <td>0</td>\n",
              "      <td>0</td>\n",
              "      <td>0</td>\n",
              "      <td>0</td>\n",
              "      <td>0</td>\n",
              "      <td>0</td>\n",
              "      <td>0</td>\n",
              "      <td>0</td>\n",
              "      <td>0</td>\n",
              "      <td>0</td>\n",
              "      <td>0</td>\n",
              "      <td>0</td>\n",
              "      <td>0</td>\n",
              "      <td>1</td>\n",
              "      <td>0</td>\n",
              "      <td>0</td>\n",
              "      <td>0</td>\n",
              "      <td>0</td>\n",
              "      <td>0</td>\n",
              "      <td>0</td>\n",
              "      <td>0</td>\n",
              "      <td>0</td>\n",
              "      <td>0</td>\n",
              "      <td>0</td>\n",
              "      <td>0</td>\n",
              "      <td>0</td>\n",
              "      <td>0</td>\n",
              "      <td>0</td>\n",
              "      <td>0</td>\n",
              "      <td>0</td>\n",
              "      <td>0</td>\n",
              "      <td>0</td>\n",
              "      <td>0</td>\n",
              "      <td>0</td>\n",
              "      <td>0</td>\n",
              "      <td>0</td>\n",
              "      <td>0</td>\n",
              "      <td>0</td>\n",
              "      <td>0</td>\n",
              "      <td>37.594849</td>\n",
              "      <td>55.786559</td>\n",
              "    </tr>\n",
              "    <tr>\n",
              "      <th>2</th>\n",
              "      <td>0</td>\n",
              "      <td>1</td>\n",
              "      <td>0</td>\n",
              "      <td>1</td>\n",
              "      <td>0</td>\n",
              "      <td>0</td>\n",
              "      <td>0</td>\n",
              "      <td>0</td>\n",
              "      <td>0</td>\n",
              "      <td>0</td>\n",
              "      <td>0</td>\n",
              "      <td>0</td>\n",
              "      <td>0</td>\n",
              "      <td>0</td>\n",
              "      <td>0</td>\n",
              "      <td>0</td>\n",
              "      <td>0</td>\n",
              "      <td>0</td>\n",
              "      <td>0</td>\n",
              "      <td>0</td>\n",
              "      <td>0</td>\n",
              "      <td>0</td>\n",
              "      <td>0</td>\n",
              "      <td>0</td>\n",
              "      <td>0</td>\n",
              "      <td>0</td>\n",
              "      <td>0</td>\n",
              "      <td>0</td>\n",
              "      <td>0</td>\n",
              "      <td>1</td>\n",
              "      <td>0</td>\n",
              "      <td>0</td>\n",
              "      <td>0</td>\n",
              "      <td>0</td>\n",
              "      <td>0</td>\n",
              "      <td>0</td>\n",
              "      <td>0</td>\n",
              "      <td>0</td>\n",
              "      <td>0</td>\n",
              "      <td>0</td>\n",
              "      <td>0</td>\n",
              "      <td>0</td>\n",
              "      <td>0</td>\n",
              "      <td>0</td>\n",
              "      <td>0</td>\n",
              "      <td>0</td>\n",
              "      <td>0</td>\n",
              "      <td>0</td>\n",
              "      <td>0</td>\n",
              "      <td>0</td>\n",
              "      <td>0</td>\n",
              "      <td>0</td>\n",
              "      <td>0</td>\n",
              "      <td>0</td>\n",
              "      <td>0</td>\n",
              "      <td>0</td>\n",
              "      <td>0</td>\n",
              "      <td>0</td>\n",
              "      <td>0</td>\n",
              "      <td>0</td>\n",
              "      <td>0</td>\n",
              "      <td>0</td>\n",
              "      <td>0</td>\n",
              "      <td>0</td>\n",
              "      <td>0</td>\n",
              "      <td>0</td>\n",
              "      <td>0</td>\n",
              "      <td>37.749819</td>\n",
              "      <td>55.647955</td>\n",
              "    </tr>\n",
              "    <tr>\n",
              "      <th>3</th>\n",
              "      <td>1</td>\n",
              "      <td>0</td>\n",
              "      <td>1</td>\n",
              "      <td>0</td>\n",
              "      <td>0</td>\n",
              "      <td>0</td>\n",
              "      <td>0</td>\n",
              "      <td>0</td>\n",
              "      <td>0</td>\n",
              "      <td>0</td>\n",
              "      <td>0</td>\n",
              "      <td>0</td>\n",
              "      <td>0</td>\n",
              "      <td>0</td>\n",
              "      <td>0</td>\n",
              "      <td>0</td>\n",
              "      <td>0</td>\n",
              "      <td>0</td>\n",
              "      <td>0</td>\n",
              "      <td>0</td>\n",
              "      <td>0</td>\n",
              "      <td>0</td>\n",
              "      <td>0</td>\n",
              "      <td>0</td>\n",
              "      <td>0</td>\n",
              "      <td>0</td>\n",
              "      <td>0</td>\n",
              "      <td>0</td>\n",
              "      <td>0</td>\n",
              "      <td>0</td>\n",
              "      <td>0</td>\n",
              "      <td>0</td>\n",
              "      <td>0</td>\n",
              "      <td>0</td>\n",
              "      <td>0</td>\n",
              "      <td>0</td>\n",
              "      <td>0</td>\n",
              "      <td>0</td>\n",
              "      <td>0</td>\n",
              "      <td>0</td>\n",
              "      <td>0</td>\n",
              "      <td>0</td>\n",
              "      <td>0</td>\n",
              "      <td>0</td>\n",
              "      <td>0</td>\n",
              "      <td>1</td>\n",
              "      <td>0</td>\n",
              "      <td>0</td>\n",
              "      <td>0</td>\n",
              "      <td>0</td>\n",
              "      <td>0</td>\n",
              "      <td>0</td>\n",
              "      <td>0</td>\n",
              "      <td>0</td>\n",
              "      <td>0</td>\n",
              "      <td>0</td>\n",
              "      <td>0</td>\n",
              "      <td>0</td>\n",
              "      <td>0</td>\n",
              "      <td>0</td>\n",
              "      <td>0</td>\n",
              "      <td>0</td>\n",
              "      <td>0</td>\n",
              "      <td>0</td>\n",
              "      <td>0</td>\n",
              "      <td>0</td>\n",
              "      <td>0</td>\n",
              "      <td>37.578783</td>\n",
              "      <td>55.780188</td>\n",
              "    </tr>\n",
              "    <tr>\n",
              "      <th>4</th>\n",
              "      <td>0</td>\n",
              "      <td>1</td>\n",
              "      <td>0</td>\n",
              "      <td>1</td>\n",
              "      <td>0</td>\n",
              "      <td>0</td>\n",
              "      <td>0</td>\n",
              "      <td>0</td>\n",
              "      <td>0</td>\n",
              "      <td>0</td>\n",
              "      <td>0</td>\n",
              "      <td>0</td>\n",
              "      <td>0</td>\n",
              "      <td>0</td>\n",
              "      <td>0</td>\n",
              "      <td>0</td>\n",
              "      <td>0</td>\n",
              "      <td>0</td>\n",
              "      <td>0</td>\n",
              "      <td>0</td>\n",
              "      <td>0</td>\n",
              "      <td>0</td>\n",
              "      <td>0</td>\n",
              "      <td>0</td>\n",
              "      <td>0</td>\n",
              "      <td>0</td>\n",
              "      <td>0</td>\n",
              "      <td>0</td>\n",
              "      <td>0</td>\n",
              "      <td>1</td>\n",
              "      <td>0</td>\n",
              "      <td>0</td>\n",
              "      <td>0</td>\n",
              "      <td>0</td>\n",
              "      <td>0</td>\n",
              "      <td>0</td>\n",
              "      <td>0</td>\n",
              "      <td>0</td>\n",
              "      <td>0</td>\n",
              "      <td>0</td>\n",
              "      <td>0</td>\n",
              "      <td>0</td>\n",
              "      <td>0</td>\n",
              "      <td>0</td>\n",
              "      <td>0</td>\n",
              "      <td>0</td>\n",
              "      <td>0</td>\n",
              "      <td>0</td>\n",
              "      <td>0</td>\n",
              "      <td>0</td>\n",
              "      <td>0</td>\n",
              "      <td>0</td>\n",
              "      <td>0</td>\n",
              "      <td>0</td>\n",
              "      <td>0</td>\n",
              "      <td>0</td>\n",
              "      <td>0</td>\n",
              "      <td>0</td>\n",
              "      <td>0</td>\n",
              "      <td>0</td>\n",
              "      <td>0</td>\n",
              "      <td>0</td>\n",
              "      <td>0</td>\n",
              "      <td>0</td>\n",
              "      <td>0</td>\n",
              "      <td>0</td>\n",
              "      <td>0</td>\n",
              "      <td>37.678140</td>\n",
              "      <td>55.752482</td>\n",
              "    </tr>\n",
              "  </tbody>\n",
              "</table>\n",
              "</div>"
            ],
            "text/plain": [
              "   TypeService_реализация непродовольственных товаров  ...          y\n",
              "0                                                  1   ...  55.783361\n",
              "1                                                  1   ...  55.786559\n",
              "2                                                  0   ...  55.647955\n",
              "3                                                  1   ...  55.780188\n",
              "4                                                  0   ...  55.752482\n",
              "\n",
              "[5 rows x 69 columns]"
            ]
          },
          "metadata": {
            "tags": []
          },
          "execution_count": 47
        }
      ]
    },
    {
      "cell_type": "code",
      "metadata": {
        "id": "MewQi5ExtTO3"
      },
      "source": [
        "# Отбор 20000 точек\n",
        "i = 20000\n",
        "data_values = data.values[:i]"
      ],
      "execution_count": null,
      "outputs": []
    },
    {
      "cell_type": "code",
      "metadata": {
        "id": "hT2-fzX6t52O"
      },
      "source": [
        "# Кластеризации\n",
        "cl = AgglomerativeClustering(n_clusters=None,compute_full_tree =True,distance_threshold =40).fit(data_values)\n"
      ],
      "execution_count": null,
      "outputs": []
    },
    {
      "cell_type": "code",
      "metadata": {
        "id": "6jn5yN45uIEh"
      },
      "source": [
        "# Метки\n",
        "labels = cl.labels_"
      ],
      "execution_count": null,
      "outputs": []
    },
    {
      "cell_type": "code",
      "metadata": {
        "id": "bgXXFk20ugXt"
      },
      "source": [
        "# Массив точек X и Y\n",
        "X = data['x'][:i]\n",
        "Y = data['y'][:i]"
      ],
      "execution_count": null,
      "outputs": []
    },
    {
      "cell_type": "code",
      "metadata": {
        "id": "AXQ8k22cuSJz",
        "colab": {
          "base_uri": "https://localhost:8080/",
          "height": 232
        },
        "outputId": "d0991f42-eb19-4d96-9f8f-09b8753fada9"
      },
      "source": [
        "# Визуализация точек с соответствующими метками\n",
        "figure(num=None, figsize=(8, 6), dpi=80, facecolor='w', edgecolor='k')\n",
        "plt.scatter(X, Y, c=labels, s=12, cmap='viridis')"
      ],
      "execution_count": null,
      "outputs": [
        {
          "output_type": "execute_result",
          "data": {
            "text/plain": [
              "<matplotlib.collections.PathCollection at 0x7f8f9472f9e8>"
            ]
          },
          "metadata": {
            "tags": []
          },
          "execution_count": 53
        },
        {
          "output_type": "display_data",
          "data": {
            "image/png": "[encoded data removed]",
            "text/plain": [
              "<Figure size 320x240 with 1 Axes>"
            ]
          },
          "metadata": {
            "tags": []
          }
        }
      ]
    },
    {
      "cell_type": "code",
      "metadata": {
        "id": "tIE_652jxLYT"
      },
      "source": [
        ""
      ],
      "execution_count": null,
      "outputs": []
    }
  ]
}